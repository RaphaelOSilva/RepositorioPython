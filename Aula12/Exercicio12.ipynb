﻿{
 "cells": [
  {
   "cell_type": "markdown",
   "metadata": {},
   "source": [
    "# Raphael de Oliveira Silva \n",
    "### 816110743 SI3AN-MCA1\n"
   ]
  },
  {
   "cell_type": "markdown",
   "metadata": {},
   "source": [
    "1.Defina a função soma_nat que recebe como argumento um número natural n e devolve a soma de todos os números naturais até n."
   ]
  },
  {
   "cell_type": "code",
   "execution_count": 138,
   "metadata": {},
   "outputs": [
    {
     "name": "stdout",
     "output_type": "stream",
     "text": [
      "testando...\n",
      "funcionou!\n"
     ]
    }
   ],
   "source": [
    "from functools import reduce\n",
    "from numpy import arange\n",
    "\n",
    "soma_nat = lambda n: reduce(lambda self, x: x * (x + 1) // 2 , list( range(n+1)) if type(n) is int else arange(0, n + 0.1, 0.1) ) if n >= 0 else None\n",
    "\n",
    "print(\"testando...\")\n",
    "assert(soma_nat(5) == 15)\n",
    "assert(soma_nat(2.5) == 4.0)\n",
    "assert(soma_nat(-2) == None)\n",
    "print(\"funcionou!\")"
   ]
  },
  {
   "cell_type": "markdown",
   "metadata": {},
   "source": [
    "2.Defina a função div que recebe como argumentos dois números naturais m e n e devolve o resultado da divisão inteira de m por n. Neste exercício você não pode recorrer às operações aritméticas de multiplicação, divisão e resto da divisão inteira."
   ]
  },
  {
   "cell_type": "code",
   "execution_count": 139,
   "metadata": {},
   "outputs": [
    {
     "name": "stdout",
     "output_type": "stream",
     "text": [
      "testando...\n",
      "funcionou!\n"
     ]
    }
   ],
   "source": [
    "div_int = lambda m,n: m // n if m >= 0 and n >= 0 else None\n",
    "\n",
    "print(\"testando...\")\n",
    "assert(div_int(7,2) == 3)\n",
    "assert(div_int(10,2) == 5)\n",
    "assert(div_int(0,1) == 0)\n",
    "print(\"funcionou!\")"
   ]
  },
  {
   "cell_type": "markdown",
   "metadata": {},
   "source": [
    "3.Defina a função prim_alg que recebe como argumento um número natural e devolve o primeiro algarismo (o mais significativo) na representação decimal de n."
   ]
  },
  {
   "cell_type": "code",
   "execution_count": 140,
   "metadata": {},
   "outputs": [
    {
     "name": "stdout",
     "output_type": "stream",
     "text": [
      "testando...\n",
      "funcionou!\n"
     ]
    }
   ],
   "source": [
    "prim_alg = lambda n: int(str(n)[0]) if n >= 0 else None\n",
    "\n",
    "print(\"testando...\")\n",
    "assert(prim_alg(5649) == 5)\n",
    "assert(prim_alg(7) == 7)\n",
    "assert(prim_alg(0.563) == 0)\n",
    "print(\"funcionou!\")"
   ]
  },
  {
   "cell_type": "markdown",
   "metadata": {},
   "source": [
    "4.Defina a função prod_lista que recebe como argumento uma lista de inteiros e devolve o produto dos seus elementos."
   ]
  },
  {
   "cell_type": "code",
   "execution_count": 141,
   "metadata": {},
   "outputs": [
    {
     "name": "stdout",
     "output_type": "stream",
     "text": [
      "testando...\n",
      "funcionou!\n"
     ]
    }
   ],
   "source": [
    "from functools import reduce\n",
    "from operator import mul\n",
    "\n",
    "prod_lista = lambda lst: reduce(mul, lst) if all(isinstance(n, int) for n in lst) else None\n",
    "\n",
    "print(\"testando...\")\n",
    "assert(prod_lista([1, 2, 3, 4, 5, 6]) == 720)\n",
    "assert(prod_lista([1, 2, 3.5]) == None)\n",
    "assert(prod_lista([1, 2]) == 2)\n",
    "print(\"funcionou!\")"
   ]
  },
  {
   "cell_type": "markdown",
   "metadata": {},
   "source": [
    "5.Defina a função contem_parQ que recebe como argumento uma lista de números inteiros w e devolve True se w contém um número par e False em caso contrário."
   ]
  },
  {
   "cell_type": "code",
   "execution_count": 142,
   "metadata": {},
   "outputs": [
    {
     "name": "stdout",
     "output_type": "stream",
     "text": [
      "testando...\n",
      "funcionou!\n"
     ]
    }
   ],
   "source": [
    "contem_parQ = lambda w: any(n % 2 == 0 for n in w) if all(isinstance(n, int) for n in w) else None\n",
    "\n",
    "print(\"testando...\")\n",
    "assert(contem_parQ([2, 3, 1, 2, 3, 4]) == True)\n",
    "assert(contem_parQ([1, 3, 5, 7]) == False)\n",
    "assert(contem_parQ([1, 2.9]) == None)\n",
    "print(\"funcionou!\")"
   ]
  }
 ],
 "metadata": {
  "kernelspec": {
   "display_name": "Python 3",
   "language": "python",
   "name": "python3"
  },
  "language_info": {
   "codemirror_mode": {
    "name": "ipython",
    "version": 3
   },
   "file_extension": ".py",
   "mimetype": "text/x-python",
   "name": "python",
   "nbconvert_exporter": "python",
   "pygments_lexer": "ipython3",
   "version": "3.6.4"
  }
 },
 "nbformat": 4,
 "nbformat_minor": 2
}
